{
 "cells": [
  {
   "cell_type": "code",
   "execution_count": 17,
   "metadata": {},
   "outputs": [
    {
     "name": "stdout",
     "output_type": "stream",
     "text": [
      "52542\n"
     ]
    }
   ],
   "source": [
    "import pickle\n",
    "from sklearn.model_selection import train_test_split\n",
    "import pandas as pd\n",
    "\n",
    "# FEATURES DATA\n",
    "# open a file, where you stored the pickled data\n",
    "file = open('../data/tweets_features', 'rb')\n",
    "\n",
    "# dump information to that file\n",
    "feature_df = pickle.load(file)\n",
    "\n",
    "# close the file\n",
    "file.close()\n",
    "\n",
    "# show dataframe with extracted features\n",
    "print(len(feature_df))\n",
    "\n",
    "# divide data into train and test\n",
    "feature_df_jb = feature_df.loc[feature_df['author']==1]\n",
    "feature_df_not_jb = feature_df.loc[feature_df['author']==0]\n",
    "train_jb, test_jb = train_test_split(feature_df_jb, test_size=0.1)\n",
    "train_not_jb, test_not_jb = train_test_split(feature_df_not_jb, test_size=0.1)\n",
    "frames_train = [train_jb, train_not_jb]\n",
    "train = pd.concat(frames_train) #TRAIN SAMPLE\n",
    "frames_test = [test_jb, test_not_jb] \n",
    "test = pd.concat(frames_test) #TRAIN SAMPLE\n",
    "\n",
    "# PARAMETERS\n",
    "# open a file, where you stored the pickled data\n",
    "file = open('../data/tweets_parameters', 'rb')\n",
    "\n",
    "# dump information to that file\n",
    "tweets_parameters = pickle.load(file)\n",
    "    tokenizer_long = tweets_parameters['tokenizer_long']\n",
    "    tokenizer_short = tweets_parameters['tokenizer_short']\n",
    "    char_codes = tweets_parameters['char_codes']\n",
    "    max_words_nr_long = tweets_parameters['max_words_nr_long']\n",
    "    max_words_nr_short = tweets_parameters['max_words_nr_short']\n",
    "    max_chars_nr_long = tweets_parameters['max_chars_nr_long']\n",
    "\n",
    "# close the file\n",
    "file.close()"
   ]
  },
  {
   "cell_type": "code",
   "execution_count": null,
   "metadata": {},
   "outputs": [],
   "source": []
  }
 ],
 "metadata": {
  "kernelspec": {
   "display_name": "Python 3",
   "language": "python",
   "name": "python3"
  },
  "language_info": {
   "codemirror_mode": {
    "name": "ipython",
    "version": 3
   },
   "file_extension": ".py",
   "mimetype": "text/x-python",
   "name": "python",
   "nbconvert_exporter": "python",
   "pygments_lexer": "ipython3",
   "version": "3.7.1"
  }
 },
 "nbformat": 4,
 "nbformat_minor": 2
}
